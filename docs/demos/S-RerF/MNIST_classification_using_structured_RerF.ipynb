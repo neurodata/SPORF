{
 "cells": [
  {
   "cell_type": "markdown",
   "metadata": {},
   "source": [
    "# MNIST classification using structured-RerF\n",
    "\n",
    "This was adapted from: https://scikit-learn.org/stable/auto_examples/linear_model/plot_sparse_logistic_regression_mnist.html"
   ]
  },
  {
   "cell_type": "code",
   "execution_count": 1,
   "metadata": {},
   "outputs": [],
   "source": [
    "import time\n",
    "import matplotlib.pyplot as plt\n",
    "import numpy as np\n",
    "\n",
    "from sklearn.datasets import fetch_openml\n",
    "from sklearn.model_selection import train_test_split\n",
    "from sklearn.preprocessing import StandardScaler\n",
    "from sklearn.utils import check_random_state\n",
    "\n",
    "from rerf.rerfClassifier import rerfClassifier"
   ]
  },
  {
   "cell_type": "code",
   "execution_count": 2,
   "metadata": {},
   "outputs": [],
   "source": [
    "# Author: Arthur Mensch <arthur.mensch@m4x.org>\n",
    "# License: BSD 3 clause\n",
    "\n",
    "# Turn down for faster convergence\n",
    "train_samples = 5000\n",
    "\n",
    "# Load data from https://www.openml.org/d/554\n",
    "X, y = fetch_openml('mnist_784', version=1, return_X_y=True)\n",
    "y = y.astype(int)"
   ]
  },
  {
   "cell_type": "code",
   "execution_count": 3,
   "metadata": {},
   "outputs": [],
   "source": [
    "random_state = check_random_state(0)\n",
    "permutation = random_state.permutation(X.shape[0])\n",
    "X = X[permutation]\n",
    "y = y[permutation]\n",
    "X = X.reshape((X.shape[0], -1))\n",
    "\n",
    "X_train, X_test, y_train, y_test = train_test_split(\n",
    "    X, y, train_size=train_samples, test_size=10000)\n",
    "\n",
    "scaler = StandardScaler()\n",
    "X_train = scaler.fit_transform(X_train)\n",
    "X_test = scaler.transform(X_test)"
   ]
  },
  {
   "cell_type": "code",
   "execution_count": 4,
   "metadata": {},
   "outputs": [
    {
     "name": "stdout",
     "output_type": "stream",
     "text": [
      "rerfClassifier(feature_combinations=1.5, image_height=None, image_width=None,\n",
      "               max_depth=None, max_features='auto', min_samples_split=1,\n",
      "               n_estimators=100, n_jobs=8, oob_score=False,\n",
      "               patch_height_max=None, patch_height_min=1, patch_width_max=None,\n",
      "               patch_width_min=1, projection_matrix='Base', random_state=None)\n",
      "rerfClassifier(feature_combinations=1.5, image_height=28, image_width=28,\n",
      "               max_depth=None, max_features='auto', min_samples_split=1,\n",
      "               n_estimators=100, n_jobs=8, oob_score=False, patch_height_max=5,\n",
      "               patch_height_min=1, patch_width_max=5, patch_width_min=1,\n",
      "               projection_matrix='S-RerF', random_state=None)\n"
     ]
    }
   ],
   "source": [
    "clf_rerf = rerfClassifier(projection_matrix=\"Base\", n_jobs=8, n_estimators=100)\n",
    "clf_s_rerf = rerfClassifier(projection_matrix=\"S-RerF\",\n",
    "                             image_height=28,\n",
    "                             image_width=28,\n",
    "                             n_estimators=100,\n",
    "                             patch_height_min=1,\n",
    "                             patch_width_min=1,\n",
    "                             patch_height_max=5,\n",
    "                             patch_width_max=5,\n",
    "                             n_jobs=8, \n",
    "                           )\n",
    "print(clf_rerf)\n",
    "print(clf_s_rerf)"
   ]
  },
  {
   "cell_type": "code",
   "execution_count": 5,
   "metadata": {},
   "outputs": [
    {
     "name": "stdout",
     "output_type": "stream",
     "text": [
      "run time rerf 1.1266508102416992\n"
     ]
    }
   ],
   "source": [
    "t0 = time.time()\n",
    "clf_rerf.fit(X_train, y_train)\n",
    "run_time = time.time() - t0\n",
    "print(\"run time rerf\", run_time)"
   ]
  },
  {
   "cell_type": "code",
   "execution_count": 6,
   "metadata": {},
   "outputs": [
    {
     "name": "stdout",
     "output_type": "stream",
     "text": [
      "run time s_rerf 6.353916883468628\n"
     ]
    }
   ],
   "source": [
    "t0 = time.time()\n",
    "clf_s_rerf.fit(X_train, y_train)\n",
    "run_time = time.time() - t0\n",
    "print(\"run time s_rerf\", run_time)"
   ]
  },
  {
   "cell_type": "code",
   "execution_count": 7,
   "metadata": {
    "scrolled": false
   },
   "outputs": [
    {
     "name": "stdout",
     "output_type": "stream",
     "text": [
      "train_acc rerf 1.0\n",
      "train_acc s_rerf 1.0\n"
     ]
    }
   ],
   "source": [
    "train_acc_rerf = clf_rerf.score(X_train, y_train)\n",
    "print(\"train_acc rerf\", train_acc_rerf)\n",
    "\n",
    "train_acc_s_rerf = clf_s_rerf.score(X_train, y_train)\n",
    "print(\"train_acc s_rerf\", train_acc_s_rerf)"
   ]
  },
  {
   "cell_type": "code",
   "execution_count": 8,
   "metadata": {
    "scrolled": false
   },
   "outputs": [
    {
     "name": "stdout",
     "output_type": "stream",
     "text": [
      "score rerf 0.9376\n",
      "score s_rerf 0.9436\n"
     ]
    }
   ],
   "source": [
    "# sparsity = np.mean(clf.coef_ == 0) * 100\n",
    "score = clf_rerf.score(X_test, y_test)\n",
    "print(\"score rerf\", score)\n",
    "\n",
    "# sparsity = np.mean(clf.coef_ == 0) * 100\n",
    "score = clf_s_rerf.score(X_test, y_test)\n",
    "print(\"score s_rerf\", score)"
   ]
  }
 ],
 "metadata": {
  "kernelspec": {
   "display_name": "Python 3",
   "language": "python",
   "name": "python3"
  },
  "language_info": {
   "codemirror_mode": {
    "name": "ipython",
    "version": 3
   },
   "file_extension": ".py",
   "mimetype": "text/x-python",
   "name": "python",
   "nbconvert_exporter": "python",
   "pygments_lexer": "ipython3",
   "version": "3.7.3"
  }
 },
 "nbformat": 4,
 "nbformat_minor": 2
}
